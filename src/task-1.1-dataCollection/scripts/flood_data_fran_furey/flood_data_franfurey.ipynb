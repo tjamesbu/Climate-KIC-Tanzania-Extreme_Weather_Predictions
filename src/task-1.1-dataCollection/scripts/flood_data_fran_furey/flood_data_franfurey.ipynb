{
 "cells": [
  {
   "cell_type": "code",
   "execution_count": 1,
   "metadata": {},
   "outputs": [],
   "source": [
    "import csv\n",
    "import requests\n",
    "from pprint import pprint\n",
    "from typing import Any, Dict"
   ]
  },
  {
   "cell_type": "code",
   "execution_count": 8,
   "metadata": {},
   "outputs": [
    {
     "name": "stdout",
     "output_type": "stream",
     "text": [
      "CSV file has been created successfully.\n"
     ]
    }
   ],
   "source": [
    "def fetch_disasters(api_url: str, payload: Dict[str, Any]) -> Dict[str, Any]:\n",
    "    \"\"\"\n",
    "    Fetch disasters from ReliefWeb API using a POST request.\n",
    "    :param api_url: URL of the ReliefWeb API endpoint.\n",
    "    :param payload: JSON payload for the POST request.\n",
    "    :return: Response JSON data from the API.\n",
    "    \"\"\"\n",
    "    headers = {\n",
    "        'Content-Type': 'application/json'\n",
    "    }\n",
    "    \n",
    "    response = requests.post(url=api_url, json=payload, headers=headers)\n",
    "    response.raise_for_status()  # Raise an exception for HTTP errors\n",
    "    \n",
    "    return response.json()\n",
    "\n",
    "def write_disasters_to_csv(disasters_data: Dict[str, Any], filename: str) -> None:\n",
    "    \"\"\"\n",
    "    Write disasters data to a CSV file.\n",
    "    :param disasters_data: Dictionary containing disasters data.\n",
    "    :param filename: Name of the file to write to.\n",
    "    \"\"\"\n",
    "    fields = ['ID', 'Name', 'URL', 'Status', 'Type Names', 'Country Names', 'Date Created']\n",
    "    with open(filename, mode='w', newline='', encoding='utf-8') as file:\n",
    "        writer = csv.writer(file)\n",
    "        writer.writerow(fields)\n",
    "        \n",
    "        for disaster in disasters_data['data']:\n",
    "            id = disaster['id']\n",
    "            name = disaster['fields']['name']\n",
    "            url = disaster['fields']['url']\n",
    "            status = disaster['fields']['status']\n",
    "            type_names = ', '.join([t['name'] for t in disaster['fields']['type']])\n",
    "            country_names = ', '.join([c['name'] for c in disaster['fields']['country']])\n",
    "            date_created = disaster['fields']['date']['created']\n",
    "            \n",
    "            writer.writerow([id, name, url, status, type_names, country_names, date_created])\n",
    "\n",
    "if __name__ == \"__main__\":\n",
    "    api_url = \"https://api.reliefweb.int/v1/disasters\"\n",
    "    payload = {\n",
    "        \"offset\": 0,\n",
    "        \"limit\": 20,\n",
    "        \"filter\": {\n",
    "            \"conditions\": [\n",
    "                {\n",
    "                    \"field\": \"type.id\",\n",
    "                    \"value\": [\"4611\", \"4624\", \"4656\"],\n",
    "                    \"operator\": \"OR\"\n",
    "                },\n",
    "                {\n",
    "                    \"field\": \"country.id\",\n",
    "                    \"value\": \"244\"\n",
    "                }\n",
    "            ],\n",
    "            \"operator\": \"AND\"\n",
    "        },\n",
    "        \"preset\": \"latest\",\n",
    "        \"profile\": \"list\",\n",
    "        \"appname\": \"kesho_ai\"\n",
    "    }\n",
    "\n",
    "    try:\n",
    "        result = fetch_disasters(api_url=api_url, payload=payload)\n",
    "        write_disasters_to_csv(disasters_data=result, filename='tanzania_disasters.csv')\n",
    "        print(\"CSV file has been created successfully.\")\n",
    "    except requests.exceptions.RequestException as e:\n",
    "        print(\"An error occurred:\", e)\n"
   ]
  },
  {
   "cell_type": "code",
   "execution_count": null,
   "metadata": {},
   "outputs": [],
   "source": []
  }
 ],
 "metadata": {
  "kernelspec": {
   "display_name": "Kesho AI Omdena",
   "language": "python",
   "name": "kesho_ai_omdena"
  },
  "language_info": {
   "codemirror_mode": {
    "name": "ipython",
    "version": 3
   },
   "file_extension": ".py",
   "mimetype": "text/x-python",
   "name": "python",
   "nbconvert_exporter": "python",
   "pygments_lexer": "ipython3",
   "version": "3.12.3"
  }
 },
 "nbformat": 4,
 "nbformat_minor": 2
}
