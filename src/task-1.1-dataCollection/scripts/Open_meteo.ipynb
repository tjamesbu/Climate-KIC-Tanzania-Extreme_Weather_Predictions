{
  "nbformat": 4,
  "nbformat_minor": 0,
  "metadata": {
    "colab": {
      "provenance": []
    },
    "kernelspec": {
      "name": "python3",
      "display_name": "Python 3"
    },
    "language_info": {
      "name": "python"
    }
  },
  "cells": [
    {
      "cell_type": "code",
      "execution_count": null,
      "metadata": {
        "colab": {
          "base_uri": "https://localhost:8080/"
        },
        "id": "OP80DLrzGsLV",
        "outputId": "67cc9cc7-e7ac-4f57-b21c-103e87c73c33"
      },
      "outputs": [
        {
          "output_type": "stream",
          "name": "stdout",
          "text": [
            "Querying weather API for Dar es Salaam - Tanzania (Attempt 1)...\n",
            "Preprocessing...\n",
            "Data saved to open_meteo.csv\n"
          ]
        }
      ],
      "source": [
        "import requests\n",
        "import pathlib\n",
        "import pandas as pd\n",
        "import time\n",
        "\n",
        "# A function to fetch weather data for a given city\n",
        "def fetch_weather_data(city):\n",
        "    url = \"https://archive-api.open-meteo.com/v1/archive\"\n",
        "    # The parameters for the API request\n",
        "    params = {\n",
        "        \"latitude\": city[\"latitude\"],\n",
        "        \"longitude\": city[\"longitude\"],\n",
        "        \"start_date\": \"2010-01-01\",\n",
        "        \"end_date\": \"2024-07-06\",\n",
        "        \"daily\": \"weathercode,temperature_2m_max,temperature_2m_min,temperature_2m_mean,apparent_temperature_max,apparent_temperature_min,apparent_temperature_mean,sunrise,sunset,shortwave_radiation_sum,precipitation_sum,rain_sum,snowfall_sum,precipitation_hours,windspeed_10m_max,windgusts_10m_max,winddirection_10m_dominant,et0_fao_evapotranspiration\",\n",
        "        \"timezone\": \"GMT\",\n",
        "        \"min\": \"2010-01-01\",\n",
        "        \"max\": \"2024-07-06\",\n",
        "    }\n",
        "# The number of retries and the backoff factor for rate limiting\n",
        "    retries = 5\n",
        "    backoff_factor = 1\n",
        "\n",
        "# Attempt to fetch data from the API\n",
        "    for attempt in range(retries):\n",
        "        try:\n",
        "            print(f\"Querying weather API for {city['name']} - {city['country']} (Attempt {attempt + 1})...\")\n",
        "            res = requests.get(url, params=params)\n",
        "            res.raise_for_status()\n",
        "            return res.json()\n",
        "        except requests.exceptions.HTTPError as http_err:\n",
        "            if res.status_code == 429: # Check if rate limit exceeded\n",
        "                wait_time = backoff_factor * (2 ** attempt)\n",
        "                print(f\"Rate limit exceeded. Retrying in {wait_time} seconds...\")\n",
        "                time.sleep(wait_time)\n",
        "            else:\n",
        "                print(f\"HTTP error occurred: {http_err}\")\n",
        "                break\n",
        "        except Exception as err:\n",
        "            print(f\"Other error occurred: {err}\")\n",
        "            break\n",
        "\n",
        "    return None\n",
        "\n",
        "# The main function to orchestrate the data fetching and saving process\n",
        "\n",
        "def main():\n",
        "    cities = [\n",
        "        { \"name\": \"Dar es Salaam\", \"country\": \"Tanzania\", \"latitude\": -6.8235, \"longitude\": 39.2695},\n",
        "    ]\n",
        "\n",
        "    cities_dfs = [] # List to store dataframes for each city\n",
        "    # Iterate over each city to fetch and process the weather data\n",
        "    for city in cities:\n",
        "        data = fetch_weather_data(city)\n",
        "        if data: # Check if data was successfully retrieved\n",
        "            print(\"Preprocessing...\")\n",
        "            df = pd.DataFrame(data[\"daily\"])\n",
        "            df[\"latitude\"] = data[\"latitude\"]\n",
        "            df[\"longitude\"] = data[\"longitude\"]\n",
        "            df[\"elevation\"] = data[\"elevation\"]\n",
        "            df[\"country\"] = city[\"country\"]\n",
        "            df[\"city\"] = city[\"name\"]\n",
        "\n",
        "            cities_dfs.append(df)\n",
        "        else:\n",
        "            print(f\"Failed to retrieve data for {city['name']} - {city['country']}\")\n",
        "\n",
        "    if cities_dfs:\n",
        "        concat_df = pd.concat(cities_dfs, ignore_index=True)\n",
        "        file_name = \"open_meteo.csv\" # the output file name\n",
        "        concat_df.to_csv(file_name, index=False)\n",
        "        print(f\"Data saved to {file_name}\")\n",
        "    else:\n",
        "        print(\"No data to save.\")\n",
        "\n",
        "if __name__ == \"__main__\":\n",
        "    main()\n"
      ]
    },
    {
      "cell_type": "code",
      "source": [],
      "metadata": {
        "id": "hf2_ERMiG_my"
      },
      "execution_count": null,
      "outputs": []
    }
  ]
}
